{
 "cells": [
  {
   "cell_type": "code",
   "execution_count": 1,
   "id": "36b8c58c-8e1e-4bcb-9939-1ecc42a1d4c1",
   "metadata": {},
   "outputs": [
    {
     "name": "stdout",
     "output_type": "stream",
     "text": [
      "Date '2024-12-01' has been written to 'today.txt'.\n"
     ]
    }
   ],
   "source": [
    "# 13.1 Write the current date as a string to the text file today.txt.\n",
    "from datetime import date\n",
    "\n",
    "# Get the current date\n",
    "current_date = date.today()\n",
    "\n",
    "# Convert the date to a string\n",
    "date_string = str(current_date)\n",
    "\n",
    "# Write the date string to 'today.txt'\n",
    "with open(\"today.txt\", \"w\") as file:\n",
    "    file.write(date_string)\n",
    "\n",
    "print(f\"Date '{date_string}' has been written to 'today.txt'.\")\n"
   ]
  },
  {
   "cell_type": "code",
   "execution_count": 1,
   "id": "797a1c47-17b4-4219-aec6-2725bcdd3510",
   "metadata": {},
   "outputs": [
    {
     "name": "stdout",
     "output_type": "stream",
     "text": [
      "The content of 'today.txt' is: '2024-12-01'\n"
     ]
    }
   ],
   "source": [
    "# 13.2 Read the text file today.txt into the string today_string.\n",
    "# Open the file 'today.txt' and read its content into the variable today_string\n",
    "\n",
    "with open(\"today.txt\", \"r\") as file:\n",
    "    today_string = file.read()\n",
    "\n",
    "print(f\"The content of 'today.txt' is: '{today_string}'\")\n"
   ]
  },
  {
   "cell_type": "code",
   "execution_count": 3,
   "id": "699a48d9-75c7-490b-a0a4-c51832f8261f",
   "metadata": {},
   "outputs": [
    {
     "name": "stdout",
     "output_type": "stream",
     "text": [
      "Parsed date: 2024-12-01 00:00:00\n",
      "Type of parsed date: <class 'datetime.datetime'>\n"
     ]
    }
   ],
   "source": [
    "# 13.3 Parse the date from today_string.\n",
    "\n",
    "from datetime import datetime\n",
    "\n",
    "# Let's assume today_string contains the date string from the previous step\n",
    "today_string = \"2024-12-01\"\n",
    "\n",
    "# Parse the date string into a datetime object\n",
    "today_date = datetime.strptime(today_string, \"%Y-%m-%d\")\n",
    "\n",
    "# Print the result to confirm it's a datetime object\n",
    "print(f\"Parsed date: {today_date}\")\n",
    "print(f\"Type of parsed date: {type(today_date)}\")\n"
   ]
  },
  {
   "cell_type": "code",
   "execution_count": 7,
   "id": "0f349adc-0869-45b6-81cc-d21af9131026",
   "metadata": {},
   "outputs": [
    {
     "name": "stdout",
     "output_type": "stream",
     "text": [
      "My date of birth is: 1990-01-01\n",
      "Type of dob: <class 'datetime.date'>\n"
     ]
    }
   ],
   "source": [
    "# 13.4 Create a date object of your day of birth.\n",
    "\n",
    "from datetime import date\n",
    "\n",
    "# My day of birth (e.g., January 12, 1990)\n",
    "dob = date(1990, 1, 12)\n",
    "\n",
    "# Print the date object\n",
    "print(f\"My date of birth is: {dob}\")\n",
    "print(f\"Type of dob: {type(dob)}\")\n"
   ]
  },
  {
   "cell_type": "code",
   "execution_count": 11,
   "id": "3bb935b4-758b-48c3-a8e9-369682a009e4",
   "metadata": {},
   "outputs": [
    {
     "name": "stdout",
     "output_type": "stream",
     "text": [
      "My date of birth was a Friday.\n"
     ]
    }
   ],
   "source": [
    "# 13.5 What day of the week was your day of birth?\n",
    "\n",
    "from datetime import date\n",
    "\n",
    "# My day of birth (January 12, 1990)\n",
    "dob = date(1990, 1, 12)\n",
    "\n",
    "day_of_week = dob.strftime(\"%A\")\n",
    "\n",
    "# Print the result\n",
    "print(f\"My date of birth was a {day_of_week}.\")\n"
   ]
  },
  {
   "cell_type": "code",
   "execution_count": 13,
   "id": "3e99018d-18f5-4a08-b39e-d98b45c085fd",
   "metadata": {},
   "outputs": [
    {
     "name": "stdout",
     "output_type": "stream",
     "text": [
      "You will be 10,000 days old on 2017-05-30.\n"
     ]
    }
   ],
   "source": [
    "# 13.6 When will you be (or when were you) 10,000 days old?\n",
    "\n",
    "from datetime import date, timedelta\n",
    "\n",
    "# Create a date object for your day of birth (e.g., January 12, 1990)\n",
    "dob = date(1990, 1, 12)\n",
    "\n",
    "# Create a timedelta object for 10,000 days\n",
    "ten_thousand_days = timedelta(days=10000)\n",
    "\n",
    "# Calculate the date when you will be (or were) 10,000 days old\n",
    "future_date = dob + ten_thousand_days\n",
    "\n",
    "# Print the result\n",
    "print(f\"You will be 10,000 days old on {future_date}.\")\n"
   ]
  },
  {
   "cell_type": "code",
   "execution_count": 15,
   "id": "da308ebb-2cc1-46aa-914e-39b9ede68401",
   "metadata": {},
   "outputs": [
    {
     "name": "stdout",
     "output_type": "stream",
     "text": [
      "Process Process-3 waited 0.23 seconds. Current time: Mon Dec  2 04:54:09 2024\n",
      "Process Process-2 waited 0.58 seconds. Current time: Mon Dec  2 04:54:10 2024Process Process-1 waited 0.69 seconds. Current time: Mon Dec  2 04:54:10 2024\n",
      "\n"
     ]
    }
   ],
   "source": [
    "# 15.1 Use multiprocessing to create three separate processes. \n",
    "# Make each one wait a random number of seconds between zero and one, \n",
    "# print the current time, and then exit.\n",
    "\n",
    "import multiprocessing\n",
    "import random\n",
    "import time\n",
    "\n",
    "def worker():\n",
    "    # Generate a random number of seconds to wait between 0 and 1\n",
    "    wait_time = random.uniform(0, 1)\n",
    "    time.sleep(wait_time)  # Make the process wait for that random time\n",
    "    print(f\"Process {multiprocessing.current_process().name} waited {wait_time:.2f} seconds. Current time: {time.ctime()}\")\n",
    "\n",
    "if __name__ == \"__main__\":\n",
    "    # Create three separate processes\n",
    "    processes = []\n",
    "    for _ in range(3):\n",
    "        process = multiprocessing.Process(target=worker)\n",
    "        processes.append(process)\n",
    "        process.start()  # Start the process\n",
    "\n",
    "    # Wait for all processes to complete\n",
    "    for process in processes:\n",
    "        process.join()  # This ensures that the main program waits for the processes to finish\n"
   ]
  },
  {
   "cell_type": "code",
   "execution_count": null,
   "id": "666303d8-8870-4c61-9664-82a85c10305b",
   "metadata": {},
   "outputs": [],
   "source": []
  }
 ],
 "metadata": {
  "kernelspec": {
   "display_name": "anaconda-ai-2024.04-py310",
   "language": "python",
   "name": "conda-env-anaconda-ai-2024.04-py310-py"
  },
  "language_info": {
   "codemirror_mode": {
    "name": "ipython",
    "version": 3
   },
   "file_extension": ".py",
   "mimetype": "text/x-python",
   "name": "python",
   "nbconvert_exporter": "python",
   "pygments_lexer": "ipython3",
   "version": "3.10.13"
  }
 },
 "nbformat": 4,
 "nbformat_minor": 5
}
